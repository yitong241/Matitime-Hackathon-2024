{
 "cells": [
  {
   "cell_type": "markdown",
   "metadata": {
    "application/vnd.databricks.v1+cell": {
     "cellMetadata": {},
     "inputWidgets": {},
     "nuid": "941985d2-8532-43de-9d11-2f0b77ed3c32",
     "showTitle": false,
     "title": ""
    }
   },
   "source": [
    "# Emissions Calculation Methodology"
   ]
  },
  {
   "cell_type": "markdown",
   "metadata": {
    "application/vnd.databricks.v1+cell": {
     "cellMetadata": {},
     "inputWidgets": {},
     "nuid": "19743245-46d6-487d-8326-0df62529a7d4",
     "showTitle": false,
     "title": ""
    }
   },
   "source": [
    "##### Step 1: Determine the operating mode of the vessel at each AIS data point\n",
    "\n",
    "GPS Speed provides movement activity which can be used to categorize vessels as either moving or stationary. \n",
    "\n",
    "There are four operating modes:\n",
    "* Transit: If speed > 1 OR navigational status = 0, 3, 4, 8, 11, 12 (considered 'moving' statuses) and it's OUTSIDE the maneuvering zone but inside the bigger port fence.\n",
    "* Anchorage: The vessel must be at an anchorage and non-moving (speed <1).\n",
    "* Maneuvering: If speed > 1 or navigational status = 0, 3, 4, 8, 11, 12 (considered 'moving' statuses) and it's INSIDE the maneuvering zone.\n",
    "* Alongside/Hotel: The vessel must be berthed (within a berth polygon) and speed <1. Note: If speed is > 1, the mode is either transit or manoeuvre.\n",
    "When determining moving vessels, either speed or navigation status can be used."
   ]
  },
  {
   "cell_type": "markdown",
   "metadata": {
    "application/vnd.databricks.v1+cell": {
     "cellMetadata": {},
     "inputWidgets": {},
     "nuid": "de5e40d3-e12c-4770-89ff-fb0c0f9db4ad",
     "showTitle": false,
     "title": ""
    }
   },
   "source": [
    "##### Step 2: Log events at each timestamp\n",
    "\n",
    "The event duration is the difference between two consecutive timestamps for each vessel i.e. same IMO number. \n",
    "\n",
    "Note: If the difference between two AIS time stamps is more than 10,000 seconds, then the event is not continuous and should not undergo calculation for this greater than 24-hour period. Thereafter it should start afresh.\n"
   ]
  },
  {
   "cell_type": "markdown",
   "metadata": {
    "application/vnd.databricks.v1+cell": {
     "cellMetadata": {},
     "inputWidgets": {},
     "nuid": "2333ce78-f5b2-427b-83ae-6023a56b6b57",
     "showTitle": false,
     "title": ""
    }
   },
   "source": [
    "##### Step 3: Determine the vessel type\n",
    "\n",
    "Determine if the vessel is an Ocean Going Vessel (OGV, of below types) or a different type.\n",
    "\n",
    "1. Bulk carrier - cargo vessel for the carriage of dry bulk cargo\n",
    "2. Container ship – cargo vessel for the carriage of containerized goods\n",
    "3. General cargo – cargo vessel for the carriage of various types of dry cargo\n",
    "4. LPG / Anhydrous ammonia tanker – cargo vessel for the bulk carriage of liquefied petroleum gas or ammonia\n",
    "5. Passenger / Cruise ship - vessels for the carriage of passengers.\n",
    "6. Product tanker – cargo vessel for the carriage of refined oil products carried in bulk\n",
    "7. Reefer ship - special form of cargo ship. It is used to transport goods that must remain refrigerated during the entire transport or where the cold chain must not be interrupted\n",
    "8. Ro-ro ship – cargo vessel for the carriage of wheeled cargo\n",
    "9. Chemical Tankers - cargo vessels for the carriage of Chemicals\n",
    "\n",
    "NOTE: LNG Tankers are to be excluded\n"
   ]
  },
  {
   "cell_type": "markdown",
   "metadata": {
    "application/vnd.databricks.v1+cell": {
     "cellMetadata": {},
     "inputWidgets": {},
     "nuid": "4246ad46-ca0f-4475-b42c-a15ca555fc76",
     "showTitle": false,
     "title": ""
    }
   },
   "source": [
    "##### Step 4: Determine Emissions Tier\n",
    "\n",
    "For OGVs, identify its Emissions Tier using Model Year (derived from the vessel's build date)."
   ]
  },
  {
   "cell_type": "markdown",
   "metadata": {
    "application/vnd.databricks.v1+cell": {
     "cellMetadata": {},
     "inputWidgets": {},
     "nuid": "5c09271b-1e98-4958-9d63-d8466e02dc90",
     "showTitle": false,
     "title": ""
    }
   },
   "source": [
    "##### Step 5: Determine Fuel Category\n",
    "\n",
    "Ports have defined fuel categories (e.g. High Sulphur, Global 0.5%, ECA). \n",
    "\n",
    "For 2023, Singapore will fall under Global 2020."
   ]
  },
  {
   "cell_type": "markdown",
   "metadata": {
    "application/vnd.databricks.v1+cell": {
     "cellMetadata": {},
     "inputWidgets": {},
     "nuid": "0a52b236-f7ff-400b-865c-029d1f0c5ec6",
     "showTitle": false,
     "title": ""
    }
   },
   "source": [
    "##### Step 6: Retrieve specific ship details for all vessels that are within the port boundary\n",
    "\n",
    "1. Main engine SFC (sfc_me)\n",
    "2. Aux engine SFC (sfc_ae)\n",
    "3. Auxiliary Boiler SFC (sfc_ab) \n"
   ]
  },
  {
   "cell_type": "markdown",
   "metadata": {
    "application/vnd.databricks.v1+cell": {
     "cellMetadata": {},
     "inputWidgets": {},
     "nuid": "5375420b-c3c8-4656-b6a2-f4fa8a1b5f28",
     "showTitle": false,
     "title": ""
    }
   },
   "source": [
    "##### Step 7: Calculate Emissions\n",
    "\n",
    "This step is dependent on the previous steps. Refer to below explanation for emission calculations\n",
    "\n",
    "Note: \n",
    "* Sequence to be strictly followed for calculations\n",
    "* Emissions do not need to be calculated for data points with missing parameters (e.g. p, speed, ael, abl, sfc_me, sfc_ae) and can be zero as default, where these parameters are used in calculation formulas. \n",
    "* If the missing parameters are not used in the calculation formula (e.g. for calculating emissions in alongside mode), there should be emissions.\n",
    "\n",
    "\n",
    "\n"
   ]
  },
  {
   "cell_type": "markdown",
   "metadata": {
    "application/vnd.databricks.v1+cell": {
     "cellMetadata": {},
     "inputWidgets": {},
     "nuid": "b0c8704c-87ce-47e3-901d-040962bec23b",
     "showTitle": false,
     "title": ""
    }
   },
   "source": [
    "###### Step 7a: Get the following parameters from the vessel movements data:\n",
    "\n",
    "* p\n",
    "* Reference speed (vref)\n",
    "* Actual speed (AS)"
   ]
  },
  {
   "cell_type": "markdown",
   "metadata": {
    "application/vnd.databricks.v1+cell": {
     "cellMetadata": {},
     "inputWidgets": {},
     "nuid": "aab35566-ac2a-4555-9f1b-f996afdf4e62",
     "showTitle": false,
     "title": ""
    }
   },
   "source": [
    "\n",
    "###### Step 7b: Calculate maximum speed\n",
    "\n",
    "Formula:\n",
    "\n",
    ">Maximum Speed (MS) = 1.066 x vref"
   ]
  },
  {
   "cell_type": "markdown",
   "metadata": {
    "application/vnd.databricks.v1+cell": {
     "cellMetadata": {},
     "inputWidgets": {},
     "nuid": "008d40a9-4567-4430-a3a8-e5dd11ed7734",
     "showTitle": false,
     "title": ""
    }
   },
   "source": [
    "###### Step 7c: Get activity hours (A) for each operating mode\n",
    "\n",
    "This was calculated in Step 2. "
   ]
  },
  {
   "cell_type": "markdown",
   "metadata": {
    "application/vnd.databricks.v1+cell": {
     "cellMetadata": {},
     "inputWidgets": {},
     "nuid": "a030dcce-e827-49f8-9e2b-17dc9f5197fc",
     "showTitle": false,
     "title": ""
    }
   },
   "source": [
    "\n",
    "###### Step 7d (i): Calculate Engine Load Factor (LF) for propulsion engines\n",
    "\n",
    " >\\\\(LF =(AS/MS){^3}\\\\)\n",
    "<br>Where</br> \n",
    "  LF = Load Factor\n",
    "  <br>AS =  Actual speed (knots)</br>\n",
    "    MS = Maximum speed (knots)"
   ]
  },
  {
   "cell_type": "markdown",
   "metadata": {
    "application/vnd.databricks.v1+cell": {
     "cellMetadata": {},
     "inputWidgets": {},
     "nuid": "485ccd72-bfab-4f36-9986-0031fabffe59",
     "showTitle": false,
     "title": ""
    }
   },
   "source": [
    "###### Step 7d(ii): Look up Low Load Adjustment Factor (LLAF) using LF calculated in Step 7d(i)\n",
    "\n",
    "* Refer to llaf_table\n",
    "* LLAF is not applicable if LF is more than 0.2. LLAF will be 1 in such cases.\n"
   ]
  },
  {
   "cell_type": "markdown",
   "metadata": {
    "application/vnd.databricks.v1+cell": {
     "cellMetadata": {},
     "inputWidgets": {},
     "nuid": "4269e920-3c14-4919-b91f-e2d74b395397",
     "showTitle": false,
     "title": ""
    }
   },
   "source": [
    "###### Note: Propulsion engine emission can only be calculated for transit and maneuver modes since at other times the main engine is not running."
   ]
  },
  {
   "cell_type": "markdown",
   "metadata": {
    "application/vnd.databricks.v1+cell": {
     "cellMetadata": {},
     "inputWidgets": {},
     "nuid": "3980e09f-1386-4af1-a33a-1bd1d8e98e5f",
     "showTitle": false,
     "title": ""
    }
   },
   "source": [
    "###### Step 7e: If LF < 0.2 and mode is transit or maneuver, then LF will be defaulted to 0 .2.\n",
    "Note: this default is not applied when identifying LLAF\n"
   ]
  },
  {
   "cell_type": "markdown",
   "metadata": {
    "application/vnd.databricks.v1+cell": {
     "cellMetadata": {},
     "inputWidgets": {},
     "nuid": "88744a58-b94c-47b0-a40f-e8a9226062a2",
     "showTitle": false,
     "title": ""
    }
   },
   "source": [
    "###### Step 7f: Emission factor (EF) table is provided.  Singapore is a non-Emission Controlled Area (ECA) so Global 2020 rows are applicable. The EF table has some formulas applied for certain pollutants:\n",
    "<br>\n",
    "1. NOx\n",
    "\n",
    "* Refer to tables Propulsion Engine Emission Factors and Auxiliary Engine Emission Factors for main engine and auxiliary engine. The values used are dependent on Engine Type and Emissions Tier in vessel movements table.\n",
    "\n",
    "* Do the same for Auxiliary Boiler (Boiler Engine Emission Factors table).\n",
    "\n",
    "2. PM10 will be calculated as follows:\n",
    "* Main Engine and Auxiliary Engine = 0.23 + (sfc_me or sfc_ae ) x 7 x 0.02247 x (0.005-0.0024)\n",
    "* Boiler = direct look up to Boiler Engine Emission Factors table\n",
    "\n",
    "3. PM2.5 = 0.92 x PM10\n",
    "\n",
    "4. VOC = direct look up EngineType column in vessel movements table.\n",
    "\n",
    "5. SOx – Refer to vessel movements table.\n",
    "* For Main Engine= sfc_me x 2 x 0.97753 x 0.005\n",
    "* For Auxiliary engine= sfc_ae x 2 x 0.97753 x 0.005\n",
    "* For Auxiliary Boiler= sfc_ab x 2 x 0.97753 x 0.005\n",
    "\n",
    "6. CO2 - Refer to vessel movements table\n",
    "* For Main Engine= sfc_me x 0.867 x 3.667\n",
    "* For Auxiliary engine= sfc_ae x 0.867 x 3.667\n",
    "* For Auxiliary Boiler= sfc_ab x 0.867 x 3.667\n",
    "\n",
    "7. CH4 - Refer to vessel movements table\n",
    "* For Main Engine and Auxiliary Boiler = corresponding direct look up Propulsion Engine Emission Factors and Auxiliary Engine Emission Factors with reference to Columns EngineType and EmissionsTier\n",
    "* For Aux engine = Dependent on Auxiliary engine load (Column ael) and EmissionsTier, direct look-up\n",
    "\n",
    "8. N2O – EngineType and EmissionsTier, dependent look up\n"
   ]
  },
  {
   "cell_type": "markdown",
   "metadata": {
    "application/vnd.databricks.v1+cell": {
     "cellMetadata": {},
     "inputWidgets": {},
     "nuid": "662d1484-4289-44d2-9a3c-03d498a58d10",
     "showTitle": false,
     "title": ""
    }
   },
   "source": [
    "###### Step 7g:\tBased on above identifications, the formulae below will be used to get the final results.\n",
    "\n",
    "The emission factor is in terms of emissions per unit of energy from the engine. It is multiplied by the energy consumed while in each mode.\n",
    "<br></br>\n",
    "Propulsion engine emissions for each mode are calculated according to the general equation:\n",
    "<br></br>\n",
    ">E = P x LF x A x EF x LLAF\n",
    "<br></br>\n",
    "Where\n",
    "<br>E = Emissions (grams [g])</br>\n",
    "P = Maximum Continuous Rating (MCR) Power for propulsion engines (kilowatts [kW]) \n",
    "<br>LF = Load Factor (percent of vessel's total power)</br>\n",
    "A = Activity (hours [h]) (hours/call)\n",
    "<br>EF = Emission Factor (grams per kilowatt-hour [g/kWh])</br>\n",
    "LLAF = Low Load Adjustment Factor for when the load factor is below 20%.\n",
    "\n",
    "Auxiliary engine emissions are calculated according to the general equation:\n",
    "<br></br>\n",
    ">E = LA X A x EF\n",
    "<br></br>\n",
    "Where\n",
    "<br>E = Emissions (grams [g])</br>\n",
    "\\\\(L{_A}\\\\) = Auxiliary engine load (kW)\n",
    "<br>A = Activity (hours [h]) (hours/call)</br>\n",
    "EF = Emission Factor (grams per kilowatt-hour [g/kWh])\n",
    "<br></br>\n",
    "\n",
    "Auxiliary boiler emissions are calculated using the general equation below:\n",
    "<br></br>\n",
    ">E = LB X A x EF\n",
    "<br></br>\n",
    "Where\n",
    "<br>E = Emissions (grams [g])</br>\n",
    "\\\\(L{_B}\\\\) = Boiler Load (kW),\n",
    "<br>A = Activity (hours [h]) (hours/call)</br>\n",
    "EF = Emission Factor (grams per kilowatt-hour [g/kWh])"
   ]
  },
  {
   "cell_type": "markdown",
   "metadata": {
    "application/vnd.databricks.v1+cell": {
     "cellMetadata": {},
     "inputWidgets": {},
     "nuid": "c852d172-57f1-4359-840b-19d8488b58a4",
     "showTitle": false,
     "title": ""
    }
   },
   "source": [
    "###### Step 7h:\tIn vessel movements data, identify the below:\n",
    "\n",
    "\\\\(L{_A}\\\\) = Auxiliary Engine load (Column ael)\n",
    "<br>\n",
    "\\\\(L{_B}\\\\) = Auxiliary Boiler load (Column abl)"
   ]
  },
  {
   "cell_type": "markdown",
   "metadata": {
    "application/vnd.databricks.v1+cell": {
     "cellMetadata": {},
     "inputWidgets": {},
     "nuid": "993dc699-0118-4c2a-9a54-2d27e6ce49f3",
     "showTitle": false,
     "title": ""
    }
   },
   "source": [
    "#####Note: \n",
    "*Total emissions of a certain pollutant type = Sum of emissions from Main Engine, Auxiliary engine and Auxiliary Boiler\n",
    "\n",
    "*Focus is not calculation of any other pollutants outside this discussion.\n",
    "<br></br>\n"
   ]
  },
  {
   "cell_type": "markdown",
   "metadata": {
    "application/vnd.databricks.v1+cell": {
     "cellMetadata": {},
     "inputWidgets": {},
     "nuid": "874cfbb6-23e8-4c3b-a38d-963044c8564a",
     "showTitle": false,
     "title": ""
    }
   },
   "source": [
    "#### Total Electrical Load Analysis\n",
    "\n",
    "Alongside or hotel load is the electrical load when the vessel is at the terminal/berth. In this mode the Main Engine is off since the Propulsion is not happening. Auxiliary Engines are running since they need to supply the electrical load for the ship and loading/discharging operating machineries.\n",
    "<br></br>\n",
    "Auxiliary Boilers produce steam and hence cannot be plugged into the electrical grid and there is no machinery onboard to generate steam.\n",
    "<br></br>\n",
    "Hence, for the purpose of this scope the Auxiliary engine load (column ael) in alongside mode will be used to identify the electrical load demand of the ships.\n",
    "<br></br>\n",
    "Total electrical demand from ship in alongside mode (Tael) = time-weighted average electrical load (ael) in alongside mode = (Sum of Product of Ael multiplied by alongside duration hours) divide by (Sum of total alongside duration in hours).\n"
   ]
  },
  {
   "cell_type": "markdown",
   "metadata": {
    "application/vnd.databricks.v1+cell": {
     "cellMetadata": {},
     "inputWidgets": {},
     "nuid": "8a195bf4-f7f8-47e3-9968-df4ff439fd3c",
     "showTitle": false,
     "title": ""
    }
   },
   "source": [
    "#### Load demand variation from the grid through day and night on a monthly basis\n",
    "\n",
    "1. For each “Alongside” operation mode, identify the time of the day as per below definition of Day and Night from timestamp column in vessel movements table.\n",
    "* Day = 0900 to 1700 hours\n",
    "* Night = 1700 to 0900 hours\n",
    "2. Create visualizations to analyze the trends of the daily and monthly demand on the shore supply grid.\n",
    "3. For DayEL and NightEL results, use the formula provided in previous section for the associated time description stated above.\n",
    "<br></br>\n",
    "NOTE: This day/ night demand can vary significantly depending on the weather and time of year in many parts of the world if not so much in Singapore. Example, winter may lead to smaller daylight time and hence more demand for vessel’s external lights to be on and vice versa. \n",
    "\n"
   ]
  }
 ],
 "metadata": {
  "application/vnd.databricks.v1+notebook": {
   "dashboards": [],
   "language": "python",
   "notebookMetadata": {
    "pythonIndentUnit": 4
   },
   "notebookName": "emissions_calculation_methodology_final",
   "widgets": {}
  }
 },
 "nbformat": 4,
 "nbformat_minor": 0
}
